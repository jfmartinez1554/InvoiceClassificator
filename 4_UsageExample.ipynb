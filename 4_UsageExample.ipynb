{
 "cells": [
  {
   "cell_type": "code",
   "execution_count": 7,
   "id": "d07e21d9-03ba-4999-bfb8-150984a8b3ba",
   "metadata": {},
   "outputs": [],
   "source": [
    "import numpy as np\n",
    "import joblib\n",
    "from tensorflow import keras\n",
    "from tensorflow.keras import layers\n",
    "from sklearn.feature_extraction.text import TfidfVectorizer"
   ]
  },
  {
   "cell_type": "code",
   "execution_count": 2,
   "id": "1b7ac913-8984-43a8-af62-5923bcbc2e1a",
   "metadata": {},
   "outputs": [],
   "source": [
    "test_text = \"retiro bancolombia\""
   ]
  },
  {
   "cell_type": "code",
   "execution_count": 3,
   "id": "e4130833-eef3-4211-ba92-65532ff15743",
   "metadata": {},
   "outputs": [],
   "source": [
    "vectorizer = joblib.load(\"TFIDF-vectorizer.joblib\")\n",
    "X = vectorizer.transform([test_text])\n",
    "X = X.todense()"
   ]
  },
  {
   "cell_type": "code",
   "execution_count": 4,
   "id": "67678ec0-92e8-4877-b2a2-bccc5ad04a1b",
   "metadata": {},
   "outputs": [
    {
     "data": {
      "text/plain": [
       "'No factura'"
      ]
     },
     "execution_count": 4,
     "metadata": {},
     "output_type": "execute_result"
    }
   ],
   "source": [
    "modelo_svm = joblib.load(\"SVM.joblib\")\n",
    "modelo_svm.predict(X)[0]"
   ]
  },
  {
   "cell_type": "code",
   "execution_count": 8,
   "id": "10c2fd7d-c733-46b1-a0c2-234f94492990",
   "metadata": {},
   "outputs": [
    {
     "data": {
      "text/plain": [
       "'No factura'"
      ]
     },
     "execution_count": 8,
     "metadata": {},
     "output_type": "execute_result"
    }
   ],
   "source": [
    "modelo_perceptron = keras.models.load_model(\"Perceptron.h5\")\n",
    "pred = modelo_perceptron.predict(X)\n",
    "        \n",
    "maxindex = np.argmax(pred)\n",
    "lst = ['Alimentación', 'Grande superficie', 'Moda', 'No factura', 'Salud y Bienestar']\n",
    "lst[maxindex]"
   ]
  }
 ],
 "metadata": {
  "kernelspec": {
   "display_name": "Python 3",
   "language": "python",
   "name": "python3"
  },
  "language_info": {
   "codemirror_mode": {
    "name": "ipython",
    "version": 3
   },
   "file_extension": ".py",
   "mimetype": "text/x-python",
   "name": "python",
   "nbconvert_exporter": "python",
   "pygments_lexer": "ipython3",
   "version": "3.8.8"
  }
 },
 "nbformat": 4,
 "nbformat_minor": 5
}
